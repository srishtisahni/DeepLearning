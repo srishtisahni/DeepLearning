{
 "cells": [
  {
   "cell_type": "code",
   "execution_count": 1,
   "id": "radical-realtor",
   "metadata": {},
   "outputs": [],
   "source": [
    "import numpy as np\n",
    "from sklearn.model_selection import train_test_split\n",
    "from sklearn.metrics import accuracy_score\n",
    "import matplotlib.pyplot as plt\n",
    "from sklearn.datasets import load_iris\n",
    "from sklearn.linear_model import LogisticRegression"
   ]
  },
  {
   "cell_type": "code",
   "execution_count": 2,
   "id": "important-southwest",
   "metadata": {},
   "outputs": [],
   "source": [
    "def sigmoid(x):\n",
    "    val = 1 + np.exp(-x)\n",
    "    return 1/val"
   ]
  },
  {
   "cell_type": "code",
   "execution_count": 4,
   "id": "different-thanksgiving",
   "metadata": {},
   "outputs": [
    {
     "ename": "SyntaxError",
     "evalue": "invalid syntax (<ipython-input-4-31567b066b1c>, line 1)",
     "output_type": "error",
     "traceback": [
      "\u001b[0;36m  File \u001b[0;32m\"<ipython-input-4-31567b066b1c>\"\u001b[0;36m, line \u001b[0;32m1\u001b[0m\n\u001b[0;31m    def forward_propogation:\u001b[0m\n\u001b[0m                           ^\u001b[0m\n\u001b[0;31mSyntaxError\u001b[0m\u001b[0;31m:\u001b[0m invalid syntax\n"
     ]
    }
   ],
   "source": [
    "def forward_propogation(X, W, b):\n",
    "    return z"
   ]
  },
  {
   "cell_type": "code",
   "execution_count": 3,
   "id": "australian-variety",
   "metadata": {},
   "outputs": [
    {
     "name": "stdout",
     "output_type": "stream",
     "text": [
      "0.53\n"
     ]
    },
    {
     "data": {
      "text/plain": [
       "[<matplotlib.lines.Line2D at 0x7fc0832b4f40>]"
      ]
     },
     "execution_count": 3,
     "metadata": {},
     "output_type": "execute_result"
    },
    {
     "data": {
      "image/png": "[encoded data removed]",
      "text/plain": [
       "<Figure size 432x288 with 1 Axes>"
      ]
     },
     "metadata": {
      "needs_background": "light"
     },
     "output_type": "display_data"
    }
   ],
   "source": [
    "#number of features\n",
    "n = 4\n",
    "#number of training examples\n",
    "m = 100\n",
    "\n",
    "#randomly initializing data\n",
    "X = np.random.randn(n,m)\n",
    "y = np.random.randint(2, size=(1,m))\n",
    "\n",
    "#implementing gradient descent\n",
    "itr = 1000 #number of iterations\n",
    "W = np.zeros((n,1)) #weight matrix\n",
    "b = 0 #bias value\n",
    "alpha = 0.01 #learning rate\n",
    "cost_itr = []\n",
    "for i in range(0, itr):\n",
    "    dz = (a - y)\n",
    "    dW = (1/m) * np.dot(X,dz.T)\n",
    "    dB = (1/m) * np.sum(dz)\n",
    "    W = W - alpha*dW\n",
    "    b = b - alpha*dB\n",
    "    cost = -1*(np.dot(1-y, np.log(1-a).T) + np.dot(y, np.log(a).T)).item()/m\n",
    "    cost_itr.append(cost/(m*0.8))\n",
    "\n",
    "z = np.dot(W.T,X) + b\n",
    "y_pred = np.abs(np.ceil(a - 0.5))\n",
    "print(accuracy_score(y.reshape(m,), y_pred.reshape(m,)))\n",
    "plt.plot(range(0,itr), cost_itr)"
   ]
  },
  {
   "cell_type": "code",
   "execution_count": 119,
   "id": "first-karen",
   "metadata": {},
   "outputs": [
    {
     "name": "stdout",
     "output_type": "stream",
     "text": [
      "[[5.       ]\n",
      " [9.8488578]]\n"
     ]
    }
   ],
   "source": [
    "x = [[0, 3, 4], [5, 6, 6]]\n",
    "x_norm = np.linalg.norm(x, ord = 2, axis = 1, keepdims = True)\n",
    "print(x_norm)"
   ]
  },
  {
   "cell_type": "code",
   "execution_count": null,
   "id": "fundamental-court",
   "metadata": {},
   "outputs": [],
   "source": []
  }
 ],
 "metadata": {
  "kernelspec": {
   "display_name": "Python 3",
   "language": "python",
   "name": "python3"
  },
  "language_info": {
   "codemirror_mode": {
    "name": "ipython",
    "version": 3
   },
   "file_extension": ".py",
   "mimetype": "text/x-python",
   "name": "python",
   "nbconvert_exporter": "python",
   "pygments_lexer": "ipython3",
   "version": "3.8.5"
  }
 },
 "nbformat": 4,
 "nbformat_minor": 5
}
