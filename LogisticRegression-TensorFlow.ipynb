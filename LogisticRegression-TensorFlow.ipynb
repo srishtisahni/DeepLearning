{
 "cells": [
  {
   "cell_type": "code",
   "execution_count": 1,
   "id": "radical-realtor",
   "metadata": {},
   "outputs": [],
   "source": [
    "import numpy as np\n",
    "import tensorflow as tf\n",
    "from sklearn import preprocessing\n",
    "from sklearn.model_selection import train_test_split\n",
    "from sklearn.metrics import accuracy_score\n",
    "import matplotlib.pyplot as plt\n",
    "from sklearn.datasets import load_breast_cancer"
   ]
  },
  {
   "cell_type": "code",
   "execution_count": 2,
   "id": "russian-sherman",
   "metadata": {},
   "outputs": [],
   "source": [
    "def initialize_weights():\n",
    "    W = tf.Variable(np.zeros((n, 1)))\n",
    "    b = tf.Variable(0, dtype = tf.float64)\n",
    "    return W,b"
   ]
  },
  {
   "cell_type": "code",
   "execution_count": 9,
   "id": "acute-champion",
   "metadata": {},
   "outputs": [],
   "source": [
    "def compute_cost():\n",
    "    m = X_train.shape[0]\n",
    "    a = tf.nn.sigmoid(tf.add(tf.matmul(X_train, W), b))\n",
    "    cost = tf.reduce_sum(tf.nn.sigmoid_cross_entropy_with_logits(logits = a, labels = y_train.reshape((m,1))))/m\n",
    "    return cost"
   ]
  },
  {
   "cell_type": "code",
   "execution_count": 7,
   "id": "olive-breeding",
   "metadata": {},
   "outputs": [],
   "source": [
    "def make_predictions():\n",
    "    a = tf.nn.sigmoid(tf.add(tf.matmul(X_test, W), b))\n",
    "    y_pred = np.where(a>0.5, 1, 0)\n",
    "    return y_pred"
   ]
  },
  {
   "cell_type": "code",
   "execution_count": 5,
   "id": "persistent-check",
   "metadata": {},
   "outputs": [],
   "source": [
    "def print_accuracy(y_pred, y_test):\n",
    "    m = y_test.shape[0]\n",
    "    print(accuracy_score(y_test.reshape(m,), y_pred.reshape(m,)))"
   ]
  },
  {
   "cell_type": "code",
   "execution_count": 12,
   "id": "australian-variety",
   "metadata": {},
   "outputs": [
    {
     "name": "stdout",
     "output_type": "stream",
     "text": [
      "0.9766081871345029\n"
     ]
    },
    {
     "data": {
      "text/plain": [
       "[<matplotlib.lines.Line2D at 0x7f83f8b4a370>]"
      ]
     },
     "execution_count": 12,
     "metadata": {},
     "output_type": "execute_result"
    },
    {
     "data": {
      "image/png": "[encoded data removed]",
      "text/plain": [
       "<Figure size 432x288 with 1 Axes>"
      ]
     },
     "metadata": {
      "needs_background": "light"
     },
     "output_type": "display_data"
    }
   ],
   "source": [
    "#loading breast-cancer data-set\n",
    "X, y = load_breast_cancer(return_X_y=True)\n",
    "y = y.astype('float64')\n",
    "\n",
    "#splitting the dataset into train and test\n",
    "X_train, X_test, y_train, y_test = train_test_split(X, y, test_size=0.3, random_state=42)\n",
    "\n",
    "#scaling data\n",
    "scaler = preprocessing.StandardScaler().fit(X_train)\n",
    "X_train = scaler.transform(X_train)\n",
    "X_test = scaler.transform(X_test)\n",
    "\n",
    "#defining parameters\n",
    "n = X_train.shape[1] #number of features\n",
    "m = X_train.shape[0] #number of training examples\n",
    "alpha = 0.009 #learning rate\n",
    "itr = 5000 #number of iterations\n",
    "\n",
    "#implementing gradient descent\n",
    "optimizer = tf.compat.v1.train.GradientDescentOptimizer(alpha)\n",
    "W,b = initialize_weights()\n",
    "cost_itr = []\n",
    "for i in range(0, itr):\n",
    "    optimizer.minimize(compute_cost, var_list=[W, b])\n",
    "    cost_itr.append(compute_cost())\n",
    "\n",
    "y_pred = make_predictions()\n",
    "print_accuracy(y_test, y_pred)\n",
    "plt.plot(range(0,itr), cost_itr)"
   ]
  },
  {
   "cell_type": "code",
   "execution_count": null,
   "id": "cardiac-balloon",
   "metadata": {},
   "outputs": [],
   "source": []
  }
 ],
 "metadata": {
  "kernelspec": {
   "display_name": "Python 3",
   "language": "python",
   "name": "python3"
  },
  "language_info": {
   "codemirror_mode": {
    "name": "ipython",
    "version": 3
   },
   "file_extension": ".py",
   "mimetype": "text/x-python",
   "name": "python",
   "nbconvert_exporter": "python",
   "pygments_lexer": "ipython3",
   "version": "3.8.5"
  }
 },
 "nbformat": 4,
 "nbformat_minor": 5
}
