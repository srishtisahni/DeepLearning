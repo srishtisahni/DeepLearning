{
 "cells": [
  {
   "cell_type": "code",
   "execution_count": 23,
   "id": "radical-realtor",
   "metadata": {},
   "outputs": [],
   "source": [
    "import numpy as np\n",
    "from sklearn import preprocessing\n",
    "from sklearn.model_selection import train_test_split\n",
    "from sklearn.metrics import accuracy_score\n",
    "import matplotlib.pyplot as plt\n",
    "from sklearn.datasets import load_breast_cancer"
   ]
  },
  {
   "cell_type": "code",
   "execution_count": 35,
   "id": "russian-sherman",
   "metadata": {},
   "outputs": [],
   "source": [
    "def initialize_weights(n):\n",
    "    W = np.random.randn(n, 1)\n",
    "    b = 0.0\n",
    "    return W,b"
   ]
  },
  {
   "cell_type": "code",
   "execution_count": 36,
   "id": "important-southwest",
   "metadata": {},
   "outputs": [],
   "source": [
    "def sigmoid(z):\n",
    "    val = 1 / (1 + np.exp(-1*z))\n",
    "    return val"
   ]
  },
  {
   "cell_type": "code",
   "execution_count": 37,
   "id": "quarterly-booth",
   "metadata": {},
   "outputs": [],
   "source": [
    "def forward_propogation(X, W, b):\n",
    "    z = np.dot(W.T,X) + b\n",
    "    a = sigmoid(z)\n",
    "    return a"
   ]
  },
  {
   "cell_type": "code",
   "execution_count": 38,
   "id": "second-camcorder",
   "metadata": {},
   "outputs": [],
   "source": [
    "def backward_propogation(X, y, a):\n",
    "    m = y.shape[1]\n",
    "    dz = (a - y)\n",
    "    dW = (1/m) * np.dot(X,dz.T)\n",
    "    dB = (1/m) * np.sum(dz)\n",
    "    return dW, dB"
   ]
  },
  {
   "cell_type": "code",
   "execution_count": 39,
   "id": "revolutionary-sally",
   "metadata": {},
   "outputs": [],
   "source": [
    "def update_params(W, b, dW, dB, alpha):\n",
    "    W = W - alpha*dW\n",
    "    b = b - alpha*dB\n",
    "    return W, b"
   ]
  },
  {
   "cell_type": "code",
   "execution_count": 40,
   "id": "acute-champion",
   "metadata": {},
   "outputs": [],
   "source": [
    "def compute_cost(y, a):\n",
    "    m = y.shape[1]\n",
    "    cost = (-1/m)*(np.dot(y,np.log(a).T) + np.dot(1-y,np.log(1-a).T))\n",
    "    return np.squeeze(cost)"
   ]
  },
  {
   "cell_type": "code",
   "execution_count": 41,
   "id": "olive-breeding",
   "metadata": {},
   "outputs": [],
   "source": [
    "def make_predictions(X, W, b):\n",
    "    a = forward_propogation(X, W, b)\n",
    "    y_pred = np.where(a>0.5, 1, 0)\n",
    "    return y_pred"
   ]
  },
  {
   "cell_type": "code",
   "execution_count": 42,
   "id": "persistent-check",
   "metadata": {},
   "outputs": [],
   "source": [
    "def print_accuracy(y_pred, y_test):\n",
    "    m = y_test.shape[1]\n",
    "    print(accuracy_score(y_test.reshape(m,), y_pred.reshape(m,))*100)"
   ]
  },
  {
   "cell_type": "code",
   "execution_count": 46,
   "id": "australian-variety",
   "metadata": {},
   "outputs": [
    {
     "name": "stdout",
     "output_type": "stream",
     "text": [
      "63.297872340425535\n"
     ]
    },
    {
     "data": {
      "text/plain": [
       "[<matplotlib.lines.Line2D at 0x7fc3dff14c10>]"
      ]
     },
     "execution_count": 46,
     "metadata": {},
     "output_type": "execute_result"
    },
    {
     "data": {
      "image/png": "[encoded data removed]",
      "text/plain": [
       "<Figure size 432x288 with 1 Axes>"
      ]
     },
     "metadata": {
      "needs_background": "light"
     },
     "output_type": "display_data"
    }
   ],
   "source": [
    "#loading breast-cancer data-set\n",
    "X, y = load_breast_cancer(return_X_y=True)\n",
    "\n",
    "#splitting the dataset into train and test\n",
    "X_train, X_test, y_train, y_test = train_test_split(X, y, test_size=0.33, random_state=42)\n",
    "\n",
    "#scaling data\n",
    "scaler = preprocessing.StandardScaler().fit(X_train)\n",
    "X_train = scaler.transform(X_train)\n",
    "X_test = scaler.transform(X_test)\n",
    "\n",
    "#reshaping the train and test dataset\n",
    "X_train = X_train.reshape((X_train.shape[1], X_train.shape[0]))\n",
    "y_train = y_train.reshape((1, y_train.shape[0]))\n",
    "X_test = X_test.reshape((X_test.shape[1], X_test.shape[0]))\n",
    "y_test = y_test.reshape((1, y_test.shape[0]))\n",
    "\n",
    "#defining parameters\n",
    "n = X_train.shape[0] #number of features\n",
    "m = X_train.shape[1] #number of training examples\n",
    "alpha = 0.009 #learning rate\n",
    "itr = 5000 #number of iterations\n",
    "\n",
    "#implementing gradient descent\n",
    "W,b = initialize_weights(n)\n",
    "cost_itr = []\n",
    "for i in range(0, itr):\n",
    "    a = forward_propogation(X_train, W, b)\n",
    "    dW, dB = backward_propogation(X_train, y_train, a)\n",
    "    W,b = update_params(W,b, dW, dB, alpha)\n",
    "    cost = compute_cost(y_train, a)\n",
    "    cost_itr.append(cost)\n",
    "\n",
    "y_pred = make_predictions(X_test, W, b)\n",
    "print_accuracy(y_test, y_pred)\n",
    "plt.plot(range(0,itr), cost_itr)"
   ]
  },
  {
   "cell_type": "code",
   "execution_count": null,
   "id": "passing-korean",
   "metadata": {},
   "outputs": [],
   "source": []
  }
 ],
 "metadata": {
  "kernelspec": {
   "display_name": "Python 3",
   "language": "python",
   "name": "python3"
  },
  "language_info": {
   "codemirror_mode": {
    "name": "ipython",
    "version": 3
   },
   "file_extension": ".py",
   "mimetype": "text/x-python",
   "name": "python",
   "nbconvert_exporter": "python",
   "pygments_lexer": "ipython3",
   "version": "3.8.5"
  }
 },
 "nbformat": 4,
 "nbformat_minor": 5
}
