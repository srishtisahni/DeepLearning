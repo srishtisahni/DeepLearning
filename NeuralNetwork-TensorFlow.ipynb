{
 "cells": [
  {
   "cell_type": "code",
   "execution_count": 36,
   "id": "radical-realtor",
   "metadata": {},
   "outputs": [],
   "source": [
    "import numpy as np\n",
    "import tensorflow as tf\n",
    "from sklearn import preprocessing\n",
    "from sklearn.model_selection import train_test_split\n",
    "from sklearn.metrics import accuracy_score\n",
    "import matplotlib.pyplot as plt\n",
    "from sklearn.datasets import load_breast_cancer"
   ]
  },
  {
   "cell_type": "code",
   "execution_count": 37,
   "id": "russian-sherman",
   "metadata": {},
   "outputs": [],
   "source": [
    "def initialize_weights(n, dims):\n",
    "    params = {}\n",
    "    L = len(dims)\n",
    "    params['W1'] = tf.Variable(np.random.randn(dims[0], n)/np.sqrt(dims[0]))\n",
    "    params['b1'] = tf.Variable(np.zeros((dims[0], 1)))\n",
    "    for i in range(1, L):\n",
    "        params['W' + str(i+1)] = tf.Variable(np.random.randn(dims[i], dims[i-1])/np.sqrt(dims[i]))\n",
    "        params['b' + str(i+1)] = tf.Variable(np.zeros((dims[i], 1)))\n",
    "    return params"
   ]
  },
  {
   "cell_type": "code",
   "execution_count": 38,
   "id": "acute-champion",
   "metadata": {},
   "outputs": [],
   "source": [
    "def compute_cost():\n",
    "    m = X_train.shape[0]\n",
    "    A = X_train.T\n",
    "    for i in range(1,L+1):\n",
    "        Z = tf.add(tf.matmul(params['W'+str(i)],A), params['b'+str(i)])\n",
    "        if i == L:\n",
    "            A = tf.nn.sigmoid(Z)\n",
    "        else:\n",
    "            A = tf.nn.relu(Z)\n",
    "    cost = tf.reduce_sum(tf.nn.sigmoid_cross_entropy_with_logits(logits = A, labels = y_train.reshape((1,m))))/m\n",
    "    return cost"
   ]
  },
  {
   "cell_type": "code",
   "execution_count": 39,
   "id": "olive-breeding",
   "metadata": {},
   "outputs": [],
   "source": [
    "def make_predictions():\n",
    "    A = X_test.T\n",
    "    for i in range(1,L+1):\n",
    "        Z = tf.add(tf.matmul(params['W'+str(i)],A), params['b'+str(i)])\n",
    "        if i == L:\n",
    "            A = tf.nn.sigmoid(Z)\n",
    "        else:\n",
    "            A = tf.nn.relu(Z)\n",
    "    y_pred = np.where(A>0.5, 1, 0)\n",
    "    return y_pred"
   ]
  },
  {
   "cell_type": "code",
   "execution_count": 40,
   "id": "persistent-check",
   "metadata": {},
   "outputs": [],
   "source": [
    "def print_accuracy(y_test, y_pred):\n",
    "    m = y_test.shape[0]\n",
    "    print(accuracy_score(y_test.reshape(m,), y_pred.reshape(m,)))"
   ]
  },
  {
   "cell_type": "code",
   "execution_count": 41,
   "id": "australian-variety",
   "metadata": {},
   "outputs": [],
   "source": [
    "#loading breast-cancer data-set\n",
    "X, y = load_breast_cancer(return_X_y=True)\n",
    "y = y.astype('float64')\n",
    "\n",
    "#splitting the dataset into train and test\n",
    "X_train, X_test, y_train, y_test = train_test_split(X, y, test_size=0.3, random_state=42)\n",
    "\n",
    "#scaling data\n",
    "scaler = preprocessing.StandardScaler().fit(X_train)\n",
    "X_train = scaler.transform(X_train)\n",
    "X_test = scaler.transform(X_test)\n",
    "\n",
    "#defining parameters\n",
    "n = X_train.shape[1]            #number of features\n",
    "m = X_train.shape[0]            #number of training examples\n",
    "L = 5                           #number of layers\n",
    "dims = [35, 25, 10, 15, 1]      #layer dimensions\n",
    "alpha = 0.009                   #learning rate\n",
    "itr = 100                      #number of iterations"
   ]
  },
  {
   "cell_type": "code",
   "execution_count": 42,
   "id": "cardiac-balloon",
   "metadata": {},
   "outputs": [],
   "source": [
    "#implementing gradient descent\n",
    "optimizer = tf.keras.optimizers.Adam(alpha)\n",
    "params = initialize_weights(n, dims)\n",
    "cost_itr = []\n",
    "for i in range(0, itr):\n",
    "    optimizer.minimize(compute_cost, var_list=list(params.values()))\n",
    "    cost_itr.append(compute_cost())"
   ]
  },
  {
   "cell_type": "code",
   "execution_count": 43,
   "id": "recovered-central",
   "metadata": {},
   "outputs": [
    {
     "name": "stdout",
     "output_type": "stream",
     "text": [
      "0.9824561403508771\n"
     ]
    },
    {
     "data": {
      "text/plain": [
       "[<matplotlib.lines.Line2D at 0x7fe1e42d4fd0>]"
      ]
     },
     "execution_count": 43,
     "metadata": {},
     "output_type": "execute_result"
    },
    {
     "data": {
      "image/png": "[encoded data removed]",
      "text/plain": [
       "<Figure size 432x288 with 1 Axes>"
      ]
     },
     "metadata": {
      "needs_background": "light"
     },
     "output_type": "display_data"
    }
   ],
   "source": [
    "y_pred = make_predictions()\n",
    "print_accuracy(y_test, y_pred)\n",
    "plt.plot(range(0,itr), cost_itr)"
   ]
  },
  {
   "cell_type": "code",
   "execution_count": null,
   "id": "finite-texture",
   "metadata": {},
   "outputs": [],
   "source": []
  }
 ],
 "metadata": {
  "kernelspec": {
   "display_name": "Python 3",
   "language": "python",
   "name": "python3"
  },
  "language_info": {
   "codemirror_mode": {
    "name": "ipython",
    "version": 3
   },
   "file_extension": ".py",
   "mimetype": "text/x-python",
   "name": "python",
   "nbconvert_exporter": "python",
   "pygments_lexer": "ipython3",
   "version": "3.8.5"
  }
 },
 "nbformat": 4,
 "nbformat_minor": 5
}
